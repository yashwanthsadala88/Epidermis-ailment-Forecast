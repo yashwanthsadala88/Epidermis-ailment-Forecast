{
 "cells": [
  {
   "cell_type": "code",
   "execution_count": 1,
   "metadata": {},
   "outputs": [
    {
     "name": "stderr",
     "output_type": "stream",
     "text": [
      "Using TensorFlow backend.\n"
     ]
    }
   ],
   "source": [
    "from keras.preprocessing.image import ImageDataGenerator\n",
    "train_datagen = ImageDataGenerator(rescale = 1./255, shear_range = 0.2,zoom_range =  0.2,horizontal_flip = True)\n",
    "test_datagen =  ImageDataGenerator(rescale = 1./255)"
   ]
  },
  {
   "cell_type": "code",
   "execution_count": 2,
   "metadata": {},
   "outputs": [
    {
     "name": "stdout",
     "output_type": "stream",
     "text": [
      "Found 360 images belonging to 5 classes.\n",
      "Found 160 images belonging to 5 classes.\n"
     ]
    }
   ],
   "source": [
    "x_train = train_datagen.flow_from_directory(r\"C:\\Users\\Admin\\Desktop\\Team 71-Skin Diseases Identification\\dataset\\train_set\",target_size = (64,64),batch_size = 32 ,  class_mode  = \"categorical\")\n",
    "x_test  = test_datagen.flow_from_directory(r\"C:\\Users\\Admin\\Desktop\\Team 71-Skin Diseases Identification\\dataset\\test_set\",target_size = (64,64),batch_size = 32 ,  class_mode  = \"categorical\")"
   ]
  },
  {
   "cell_type": "code",
   "execution_count": 3,
   "metadata": {},
   "outputs": [],
   "source": [
    "from keras.models import Sequential\n",
    "from keras.layers import Dense\n",
    "from keras.layers import Convolution2D\n",
    "from keras.layers import MaxPooling2D\n",
    "from keras.layers import Flatten"
   ]
  },
  {
   "cell_type": "code",
   "execution_count": 4,
   "metadata": {},
   "outputs": [
    {
     "name": "stdout",
     "output_type": "stream",
     "text": [
      "WARNING:tensorflow:From C:\\ProgramData\\Anaconda3\\lib\\site-packages\\keras\\backend\\tensorflow_backend.py:74: The name tf.get_default_graph is deprecated. Please use tf.compat.v1.get_default_graph instead.\n",
      "\n"
     ]
    }
   ],
   "source": [
    "model=Sequential()"
   ]
  },
  {
   "cell_type": "code",
   "execution_count": 5,
   "metadata": {},
   "outputs": [
    {
     "name": "stdout",
     "output_type": "stream",
     "text": [
      "WARNING:tensorflow:From C:\\ProgramData\\Anaconda3\\lib\\site-packages\\keras\\backend\\tensorflow_backend.py:517: The name tf.placeholder is deprecated. Please use tf.compat.v1.placeholder instead.\n",
      "\n"
     ]
    },
    {
     "name": "stderr",
     "output_type": "stream",
     "text": [
      "C:\\ProgramData\\Anaconda3\\lib\\site-packages\\ipykernel_launcher.py:1: UserWarning: Update your `Conv2D` call to the Keras 2 API: `Conv2D(32, (3, 3), input_shape=(64, 64, 3..., activation=\"relu\")`\n",
      "  \"\"\"Entry point for launching an IPython kernel.\n"
     ]
    },
    {
     "name": "stdout",
     "output_type": "stream",
     "text": [
      "WARNING:tensorflow:From C:\\ProgramData\\Anaconda3\\lib\\site-packages\\keras\\backend\\tensorflow_backend.py:4138: The name tf.random_uniform is deprecated. Please use tf.random.uniform instead.\n",
      "\n"
     ]
    }
   ],
   "source": [
    "model.add(Convolution2D(32,3,3,input_shape=(64,64,3),activation = 'relu'))"
   ]
  },
  {
   "cell_type": "code",
   "execution_count": 6,
   "metadata": {},
   "outputs": [
    {
     "name": "stdout",
     "output_type": "stream",
     "text": [
      "WARNING:tensorflow:From C:\\ProgramData\\Anaconda3\\lib\\site-packages\\keras\\backend\\tensorflow_backend.py:3976: The name tf.nn.max_pool is deprecated. Please use tf.nn.max_pool2d instead.\n",
      "\n"
     ]
    }
   ],
   "source": [
    "model.add(MaxPooling2D(pool_size=(2,2)))"
   ]
  },
  {
   "cell_type": "code",
   "execution_count": 7,
   "metadata": {},
   "outputs": [],
   "source": [
    "#input layer\n",
    "model.add(Flatten())"
   ]
  },
  {
   "cell_type": "code",
   "execution_count": 8,
   "metadata": {},
   "outputs": [
    {
     "name": "stderr",
     "output_type": "stream",
     "text": [
      "C:\\ProgramData\\Anaconda3\\lib\\site-packages\\ipykernel_launcher.py:2: UserWarning: Update your `Dense` call to the Keras 2 API: `Dense(activation=\"relu\", units=500, kernel_initializer=\"uniform\")`\n",
      "  \n"
     ]
    }
   ],
   "source": [
    "#hidden layers\n",
    "model.add(Dense(init='uniform',activation='relu',units=500))"
   ]
  },
  {
   "cell_type": "code",
   "execution_count": 9,
   "metadata": {},
   "outputs": [
    {
     "name": "stderr",
     "output_type": "stream",
     "text": [
      "C:\\ProgramData\\Anaconda3\\lib\\site-packages\\ipykernel_launcher.py:1: UserWarning: Update your `Dense` call to the Keras 2 API: `Dense(activation=\"softmax\", units=5, kernel_initializer=\"uniform\")`\n",
      "  \"\"\"Entry point for launching an IPython kernel.\n"
     ]
    }
   ],
   "source": [
    "model.add(Dense(init='uniform',activation='softmax',units=5))"
   ]
  },
  {
   "cell_type": "code",
   "execution_count": 10,
   "metadata": {},
   "outputs": [
    {
     "name": "stdout",
     "output_type": "stream",
     "text": [
      "WARNING:tensorflow:From C:\\ProgramData\\Anaconda3\\lib\\site-packages\\keras\\optimizers.py:790: The name tf.train.Optimizer is deprecated. Please use tf.compat.v1.train.Optimizer instead.\n",
      "\n",
      "WARNING:tensorflow:From C:\\ProgramData\\Anaconda3\\lib\\site-packages\\keras\\backend\\tensorflow_backend.py:3295: The name tf.log is deprecated. Please use tf.math.log instead.\n",
      "\n"
     ]
    }
   ],
   "source": [
    "model.compile(loss='categorical_crossentropy',optimizer='adam',metrics=['accuracy'])"
   ]
  },
  {
   "cell_type": "code",
   "execution_count": 11,
   "metadata": {},
   "outputs": [
    {
     "name": "stdout",
     "output_type": "stream",
     "text": [
      "WARNING:tensorflow:From C:\\ProgramData\\Anaconda3\\lib\\site-packages\\tensorflow\\python\\ops\\math_grad.py:1250: add_dispatch_support.<locals>.wrapper (from tensorflow.python.ops.array_ops) is deprecated and will be removed in a future version.\n",
      "Instructions for updating:\n",
      "Use tf.where in 2.0, which has the same broadcast rule as np.where\n",
      "WARNING:tensorflow:From C:\\ProgramData\\Anaconda3\\lib\\site-packages\\keras\\backend\\tensorflow_backend.py:986: The name tf.assign_add is deprecated. Please use tf.compat.v1.assign_add instead.\n",
      "\n",
      "Epoch 1/50\n",
      "12/12 [==============================] - 24s 2s/step - loss: 2.3064 - acc: 0.2729 - val_loss: 1.6216 - val_acc: 0.1938\n",
      "Epoch 2/50\n",
      "12/12 [==============================] - 8s 627ms/step - loss: 1.6064 - acc: 0.3037 - val_loss: 1.4252 - val_acc: 0.4250\n",
      "Epoch 3/50\n",
      "12/12 [==============================] - 8s 635ms/step - loss: 1.4778 - acc: 0.3959 - val_loss: 1.3409 - val_acc: 0.4062\n",
      "Epoch 4/50\n",
      "12/12 [==============================] - 8s 633ms/step - loss: 1.3363 - acc: 0.4941 - val_loss: 1.2174 - val_acc: 0.5625\n",
      "Epoch 5/50\n",
      "12/12 [==============================] - 8s 636ms/step - loss: 1.2672 - acc: 0.5000 - val_loss: 1.2220 - val_acc: 0.4875\n",
      "Epoch 6/50\n",
      "12/12 [==============================] - 8s 627ms/step - loss: 1.2171 - acc: 0.5275 - val_loss: 1.1622 - val_acc: 0.5375\n",
      "Epoch 7/50\n",
      "12/12 [==============================] - 8s 626ms/step - loss: 1.1966 - acc: 0.5131 - val_loss: 1.0747 - val_acc: 0.6000\n",
      "Epoch 8/50\n",
      "12/12 [==============================] - 8s 636ms/step - loss: 1.1126 - acc: 0.6047 - val_loss: 1.1499 - val_acc: 0.5500\n",
      "Epoch 9/50\n",
      "12/12 [==============================] - 8s 642ms/step - loss: 1.0541 - acc: 0.5936 - val_loss: 1.2424 - val_acc: 0.4688\n",
      "Epoch 10/50\n",
      "12/12 [==============================] - 8s 626ms/step - loss: 1.0687 - acc: 0.5707 - val_loss: 1.0500 - val_acc: 0.5750\n",
      "Epoch 11/50\n",
      "12/12 [==============================] - 8s 637ms/step - loss: 1.0272 - acc: 0.6126 - val_loss: 0.9846 - val_acc: 0.6625\n",
      "Epoch 12/50\n",
      "12/12 [==============================] - 8s 636ms/step - loss: 0.9792 - acc: 0.6381 - val_loss: 0.9696 - val_acc: 0.6062\n",
      "Epoch 13/50\n",
      "12/12 [==============================] - 7s 620ms/step - loss: 0.9186 - acc: 0.6630 - val_loss: 0.9604 - val_acc: 0.6937\n",
      "Epoch 14/50\n",
      "12/12 [==============================] - 7s 624ms/step - loss: 0.8807 - acc: 0.6590 - val_loss: 0.9471 - val_acc: 0.6687\n",
      "Epoch 15/50\n",
      "12/12 [==============================] - 16s 1s/step - loss: 0.8621 - acc: 0.7049 - val_loss: 0.9443 - val_acc: 0.6438\n",
      "Epoch 16/50\n",
      "12/12 [==============================] - 7s 602ms/step - loss: 0.8212 - acc: 0.7258 - val_loss: 0.9547 - val_acc: 0.6438\n",
      "Epoch 17/50\n",
      "12/12 [==============================] - 7s 624ms/step - loss: 0.7268 - acc: 0.7310 - val_loss: 0.9584 - val_acc: 0.6500\n",
      "Epoch 18/50\n",
      "12/12 [==============================] - 8s 628ms/step - loss: 0.7407 - acc: 0.7238 - val_loss: 0.9527 - val_acc: 0.6562\n",
      "Epoch 19/50\n",
      "12/12 [==============================] - 8s 631ms/step - loss: 0.7406 - acc: 0.7146 - val_loss: 0.9679 - val_acc: 0.6500\n",
      "Epoch 20/50\n",
      "12/12 [==============================] - 7s 623ms/step - loss: 0.6919 - acc: 0.7506 - val_loss: 0.9064 - val_acc: 0.6625\n",
      "Epoch 21/50\n",
      "12/12 [==============================] - 7s 623ms/step - loss: 0.6795 - acc: 0.7755 - val_loss: 0.9559 - val_acc: 0.6625\n",
      "Epoch 22/50\n",
      "12/12 [==============================] - 8s 629ms/step - loss: 0.6131 - acc: 0.7736 - val_loss: 0.9165 - val_acc: 0.7188\n",
      "Epoch 23/50\n",
      "12/12 [==============================] - 7s 624ms/step - loss: 0.6194 - acc: 0.7866 - val_loss: 0.9309 - val_acc: 0.6750\n",
      "Epoch 24/50\n",
      "12/12 [==============================] - 8s 636ms/step - loss: 0.6130 - acc: 0.7880 - val_loss: 0.9419 - val_acc: 0.6937\n",
      "Epoch 25/50\n",
      "12/12 [==============================] - 8s 627ms/step - loss: 0.5530 - acc: 0.8174 - val_loss: 0.9782 - val_acc: 0.6687\n",
      "Epoch 26/50\n",
      "12/12 [==============================] - 8s 647ms/step - loss: 0.5190 - acc: 0.8233 - val_loss: 0.9139 - val_acc: 0.6937\n",
      "Epoch 27/50\n",
      "12/12 [==============================] - 8s 669ms/step - loss: 0.4840 - acc: 0.8619 - val_loss: 0.9267 - val_acc: 0.7188\n",
      "Epoch 28/50\n",
      "12/12 [==============================] - 8s 676ms/step - loss: 0.4504 - acc: 0.8331 - val_loss: 0.9416 - val_acc: 0.7125\n",
      "Epoch 29/50\n",
      "12/12 [==============================] - 8s 638ms/step - loss: 0.4361 - acc: 0.8698 - val_loss: 1.0017 - val_acc: 0.6750\n",
      "Epoch 30/50\n",
      "12/12 [==============================] - 8s 676ms/step - loss: 0.4417 - acc: 0.8573 - val_loss: 1.0120 - val_acc: 0.6625\n",
      "Epoch 31/50\n",
      "12/12 [==============================] - 8s 704ms/step - loss: 0.4222 - acc: 0.8874 - val_loss: 1.0844 - val_acc: 0.6937\n",
      "Epoch 32/50\n",
      "12/12 [==============================] - 8s 691ms/step - loss: 0.4075 - acc: 0.8613 - val_loss: 1.1776 - val_acc: 0.6375\n",
      "Epoch 33/50\n",
      "12/12 [==============================] - 8s 661ms/step - loss: 0.4505 - acc: 0.8567 - val_loss: 1.0588 - val_acc: 0.6875\n",
      "Epoch 34/50\n",
      "12/12 [==============================] - 8s 669ms/step - loss: 0.4419 - acc: 0.8724 - val_loss: 1.0534 - val_acc: 0.6875\n",
      "Epoch 35/50\n",
      "12/12 [==============================] - 8s 678ms/step - loss: 0.3665 - acc: 0.8717 - val_loss: 1.1173 - val_acc: 0.6813\n",
      "Epoch 36/50\n",
      "12/12 [==============================] - 8s 638ms/step - loss: 0.3681 - acc: 0.8796 - val_loss: 1.0417 - val_acc: 0.6813\n",
      "Epoch 37/50\n",
      "12/12 [==============================] - 7s 613ms/step - loss: 0.3268 - acc: 0.9110 - val_loss: 1.0775 - val_acc: 0.7000\n",
      "Epoch 38/50\n",
      "12/12 [==============================] - 9s 717ms/step - loss: 0.2734 - acc: 0.9247 - val_loss: 1.1491 - val_acc: 0.6625\n",
      "Epoch 39/50\n",
      "12/12 [==============================] - 8s 643ms/step - loss: 0.3444 - acc: 0.8809 - val_loss: 1.1262 - val_acc: 0.6937\n",
      "Epoch 40/50\n",
      "12/12 [==============================] - 7s 625ms/step - loss: 0.3085 - acc: 0.9097 - val_loss: 1.0484 - val_acc: 0.7125\n",
      "Epoch 41/50\n",
      "12/12 [==============================] - 8s 626ms/step - loss: 0.2624 - acc: 0.9274 - val_loss: 1.1947 - val_acc: 0.6875\n",
      "Epoch 42/50\n",
      "12/12 [==============================] - 7s 622ms/step - loss: 0.2583 - acc: 0.9228 - val_loss: 1.1390 - val_acc: 0.7250\n",
      "Epoch 43/50\n",
      "12/12 [==============================] - 7s 624ms/step - loss: 0.2744 - acc: 0.9038 - val_loss: 1.2152 - val_acc: 0.7000\n",
      "Epoch 44/50\n",
      "12/12 [==============================] - 7s 623ms/step - loss: 0.2506 - acc: 0.9189 - val_loss: 1.2925 - val_acc: 0.6562\n",
      "Epoch 45/50\n",
      "12/12 [==============================] - 8s 630ms/step - loss: 0.2066 - acc: 0.9424 - val_loss: 1.2622 - val_acc: 0.7000\n",
      "Epoch 46/50\n",
      "12/12 [==============================] - 8s 636ms/step - loss: 0.1998 - acc: 0.9581 - val_loss: 1.2465 - val_acc: 0.6813\n",
      "Epoch 47/50\n",
      "12/12 [==============================] - 8s 627ms/step - loss: 0.2249 - acc: 0.9398 - val_loss: 1.2308 - val_acc: 0.7000\n",
      "Epoch 48/50\n",
      "12/12 [==============================] - 8s 635ms/step - loss: 0.2131 - acc: 0.9358 - val_loss: 1.1789 - val_acc: 0.6875\n",
      "Epoch 49/50\n",
      "12/12 [==============================] - 7s 624ms/step - loss: 0.2833 - acc: 0.9175 - val_loss: 1.2631 - val_acc: 0.6687\n",
      "Epoch 50/50\n",
      "12/12 [==============================] - 8s 629ms/step - loss: 0.1964 - acc: 0.9483 - val_loss: 1.2613 - val_acc: 0.7063\n"
     ]
    },
    {
     "data": {
      "text/plain": [
       "<keras.callbacks.History at 0x26db6ca55f8>"
      ]
     },
     "execution_count": 11,
     "metadata": {},
     "output_type": "execute_result"
    }
   ],
   "source": [
    "model.fit_generator(x_train,steps_per_epoch = 12,epochs=50,validation_data = x_test,validation_steps = 5)"
   ]
  },
  {
   "cell_type": "code",
   "execution_count": 12,
   "metadata": {},
   "outputs": [],
   "source": [
    "model.save(\"skindisease.h5\")"
   ]
  },
  {
   "cell_type": "code",
   "execution_count": 13,
   "metadata": {},
   "outputs": [
    {
     "name": "stdout",
     "output_type": "stream",
     "text": [
      "{'Acne': 0, 'Melanoma': 1, 'Peeling skin': 2, 'Ring worm': 3, 'Vitiligo': 4}\n"
     ]
    }
   ],
   "source": [
    "print(x_train.class_indices)"
   ]
  },
  {
   "cell_type": "code",
   "execution_count": null,
   "metadata": {},
   "outputs": [],
   "source": []
  }
 ],
 "metadata": {
  "kernelspec": {
   "display_name": "Python 3",
   "language": "python",
   "name": "python3"
  },
  "language_info": {
   "codemirror_mode": {
    "name": "ipython",
    "version": 3
   },
   "file_extension": ".py",
   "mimetype": "text/x-python",
   "name": "python",
   "nbconvert_exporter": "python",
   "pygments_lexer": "ipython3",
   "version": "3.9.4"
  }
 },
 "nbformat": 4,
 "nbformat_minor": 2
}
